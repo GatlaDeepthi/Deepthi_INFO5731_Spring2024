{
  "cells": [
    {
      "cell_type": "markdown",
      "metadata": {
        "id": "view-in-github",
        "colab_type": "text"
      },
      "source": [
        "<a href=\"https://colab.research.google.com/github/GatlaDeepthi/Deepthi_INFO5731_Spring2024/blob/main/In_class_exercise/Deepthi_Gatla_Exercise_01.ipynb\" target=\"_parent\"><img src=\"https://colab.research.google.com/assets/colab-badge.svg\" alt=\"Open In Colab\"/></a>"
      ]
    },
    {
      "cell_type": "markdown",
      "metadata": {
        "id": "DymRJbxDBCnf"
      },
      "source": [
        "# **This first In-class-exercise cover a variety of fundamental concepts in Python and are designed to help individuals improve their coding skills and problem-solving abilities.**\n",
        "\n",
        "The submission is due on 01/31/2024 11:59 PM. This submission is worth 40 points in total.\n"
      ]
    },
    {
      "cell_type": "markdown",
      "source": [
        "(1) Write a Python program that  prompts the user to input the length and width of a rectangle, and then calculates and displays the area of the rectangle."
      ],
      "metadata": {
        "id": "FBKvD6O_TY6e"
      }
    },
    {
      "cell_type": "code",
      "source": [
        "# write your answer here\n",
        "a=float(input(\"Enter the value of Length : \"))\n",
        "b=float(input(\"Enter the value of breadth : \"))\n",
        "Area=a*b\n",
        "print (Area)\n"
      ],
      "metadata": {
        "id": "cikVKDXdTbzE",
        "colab": {
          "base_uri": "https://localhost:8080/"
        },
        "outputId": "c0c20c1e-08a2-4538-cc9f-d171566bddca"
      },
      "execution_count": 4,
      "outputs": [
        {
          "output_type": "stream",
          "name": "stdout",
          "text": [
            "Enter the value of Length : 25\n",
            "Enter the value of breadth : 30\n",
            "750.0\n"
          ]
        }
      ]
    },
    {
      "cell_type": "markdown",
      "source": [
        "(2) Create a Python program that interactively takes two numerical inputs from the user and swaps their values without utilizing an extra variable."
      ],
      "metadata": {
        "id": "E9RqrlwdTfvl"
      }
    },
    {
      "cell_type": "code",
      "source": [
        "# write your answer here\n",
        "#let us consider the two variables as c and d\n",
        "c=float(input(\"Enter the value of c : \"))\n",
        "d=float(input(\"Enter the value of d : \"))\n",
        "#now do the swapping for this I used addition and subtraction\n",
        "c=c+d\n",
        "#d=c-d=(c+d)-d then d takes the value of c\n",
        "d=c-d\n",
        "#c=c-d=c-(c-d) then c takes the value of d\n",
        "c=c-d\n",
        "print(c)\n",
        "print(d)\n"
      ],
      "metadata": {
        "id": "4XvRknixTh1g",
        "colab": {
          "base_uri": "https://localhost:8080/"
        },
        "outputId": "d7c292da-f465-4756-e58a-18d9e7c7328c"
      },
      "execution_count": 5,
      "outputs": [
        {
          "output_type": "stream",
          "name": "stdout",
          "text": [
            "Enter the value of c : 15\n",
            "Enter the value of d : 20\n",
            "20.0\n",
            "15.0\n"
          ]
        }
      ]
    },
    {
      "cell_type": "markdown",
      "metadata": {
        "id": "03jb4GZsBkBS"
      },
      "source": [
        "(3) Write a Python script to determine and print the length of a user-input string."
      ]
    },
    {
      "cell_type": "code",
      "execution_count": 6,
      "metadata": {
        "id": "YaGLbSHHB8Ej",
        "colab": {
          "base_uri": "https://localhost:8080/"
        },
        "outputId": "c24c3259-1506-4a8a-94d6-ac6eee90fcb8"
      },
      "outputs": [
        {
          "output_type": "stream",
          "name": "stdout",
          "text": [
            "Enter the String1 : I have a dog\n",
            "12\n"
          ]
        }
      ],
      "source": [
        "# write your answer here\n",
        "string1=input(\"Enter the String1 : \")\n",
        "print(len(string1))\n"
      ]
    },
    {
      "cell_type": "markdown",
      "metadata": {
        "id": "jJDe71iLB616"
      },
      "source": [
        "(4) Construct a Python program that counts and displays the occurrences of each character in a given string.\n",
        "\n",
        "Sample String: 'openai.ai',\n",
        "\n",
        "Expected Result: {'a': 2, 'i': 2, '.': 1, 'o': 1, 'p': 1, 'e': 1, 'n': 1}"
      ]
    },
    {
      "cell_type": "code",
      "execution_count": 15,
      "metadata": {
        "id": "MtKskTzbCLaU",
        "colab": {
          "base_uri": "https://localhost:8080/"
        },
        "outputId": "7446b0fc-3bd6-4e05-b928-7f31b63c1ea4"
      },
      "outputs": [
        {
          "output_type": "stream",
          "name": "stdout",
          "text": [
            "{'o': 1, 'p': 1, 'e': 1, 'n': 1, 'a': 2, 'i': 2, '.': 1}\n"
          ]
        }
      ],
      "source": [
        "# write your answer here\n",
        "string='openai.ai'\n",
        "characters_count={} # creating a empty dictionary to store the occurences\n",
        "for char in string:\n",
        "  if char in characters_count:\n",
        "    characters_count[char]+=1\n",
        "  else :\n",
        "    characters_count[char]=1\n",
        "\n",
        "print(characters_count)\n",
        "\n"
      ]
    },
    {
      "cell_type": "markdown",
      "metadata": {
        "id": "55W9AMdXCSpV"
      },
      "source": [
        "(5) Design a Python code to calculate the sum of all elements in a user-provided list."
      ]
    },
    {
      "cell_type": "code",
      "execution_count": 18,
      "metadata": {
        "id": "I57NXsauCec2",
        "colab": {
          "base_uri": "https://localhost:8080/"
        },
        "outputId": "4bdf0f7e-6ae9-420a-dff2-904cb00ac12c"
      },
      "outputs": [
        {
          "output_type": "stream",
          "name": "stdout",
          "text": [
            "Enter the list of numbers: 1 2 3 4\n",
            "10.0\n"
          ]
        }
      ],
      "source": [
        "# write your answer here\n",
        "list1=input(\"Enter the list of numbers: \")\n",
        "numbers=list1.split()\n",
        "list2=[float(num) for num in numbers]\n",
        "result=sum(list2)\n",
        "print(result)\n",
        "\n"
      ]
    },
    {
      "cell_type": "markdown",
      "metadata": {
        "id": "4ulBZ6yhCi9F"
      },
      "source": [
        "(6) Write a Python program that modifies a given string by replacing all occurrences of its first character with '$', excluding the first character itself.\n",
        "\n",
        "\n",
        "Sample String : 'restart‘,\n",
        "\n",
        "Expected Result : 'resta\\$t'"
      ]
    },
    {
      "cell_type": "code",
      "execution_count": 21,
      "metadata": {
        "id": "Fj0XhwbBCw2o",
        "colab": {
          "base_uri": "https://localhost:8080/"
        },
        "outputId": "040c35f4-9a12-48d2-c63f-5382866b067d"
      },
      "outputs": [
        {
          "output_type": "stream",
          "name": "stdout",
          "text": [
            "resta$t\n"
          ]
        }
      ],
      "source": [
        "# write your answer here\n",
        "string_input='restart'\n",
        "first_character=string_input[0]\n",
        "modified_string=string_input[0] + string_input[1:].replace(first_character,'$')\n",
        "print(modified_string)\n",
        "\n"
      ]
    },
    {
      "cell_type": "markdown",
      "source": [
        "(7) Write a Python program using a while loop to compute the factorial of a user-supplied number."
      ],
      "metadata": {
        "id": "qVXA3q7ET5JI"
      }
    },
    {
      "cell_type": "code",
      "source": [
        "# write your answer here\n",
        "input1=input(\"Enter the value of the number: \")\n",
        "fact=1\n",
        "i=1\n",
        "while i<=int(input1) :\n",
        "  fact=fact*i\n",
        "  i=i+1\n",
        "print(fact)\n",
        "\n",
        "\n"
      ],
      "metadata": {
        "id": "Lbt7R6UkT7BA",
        "colab": {
          "base_uri": "https://localhost:8080/"
        },
        "outputId": "e9339936-352e-4329-c510-cb421d497a64"
      },
      "execution_count": 26,
      "outputs": [
        {
          "output_type": "stream",
          "name": "stdout",
          "text": [
            "Enter the value of the number: 6\n",
            "720\n"
          ]
        }
      ]
    },
    {
      "cell_type": "markdown",
      "source": [
        "(8) Create a program that accepts a list of numbers as input and outputs a new list containing only the even numbers."
      ],
      "metadata": {
        "id": "6YfbzXMNT--R"
      }
    },
    {
      "cell_type": "code",
      "source": [
        "# write your answer here\n",
        "list1=input(\"Enter the list of numbers: \")\n",
        "numbers=[int(num) for num in list1.split()]\n",
        "list2=[]\n",
        "for num in numbers:\n",
        "  if num%2==0:\n",
        "    list2.append(num)\n",
        "print(list2)"
      ],
      "metadata": {
        "id": "54q7wMQPUAKu",
        "colab": {
          "base_uri": "https://localhost:8080/"
        },
        "outputId": "bd25b6ad-75db-4bef-c78c-a7a51acebed6"
      },
      "execution_count": 32,
      "outputs": [
        {
          "output_type": "stream",
          "name": "stdout",
          "text": [
            "Enter the list of numbers: 1 2 3 4 5\n",
            "[2, 4]\n"
          ]
        }
      ]
    },
    {
      "cell_type": "markdown",
      "metadata": {
        "id": "_bIP7s1MCzue"
      },
      "source": [
        "\n",
        "(9) Design a Python function to check if a number is prime.\n"
      ]
    },
    {
      "cell_type": "code",
      "execution_count": 77,
      "metadata": {
        "id": "w79QilHXD3Mg",
        "colab": {
          "base_uri": "https://localhost:8080/"
        },
        "outputId": "a1830d4d-37c5-49d2-ca4d-555b59b04ce2"
      },
      "outputs": [
        {
          "output_type": "stream",
          "name": "stdout",
          "text": [
            "enter the number : 15\n",
            "the given number is not a prime number\n"
          ]
        }
      ],
      "source": [
        "# write your answer here\n",
        "input1=int(input(\"enter the number : \"))\n",
        "if input1>1:\n",
        "  for i in range(2,int(input1/2)+1):\n",
        "    if input1%i==0:\n",
        "      print(\"the given number is not a prime number\")\n",
        "      break\n",
        "  else :\n",
        "    print(\"The given number is prime number\")\n",
        "else:\n",
        "  print(\"The given number is not a prime number\")\n",
        "\n",
        "\n",
        "\n",
        "\n"
      ]
    },
    {
      "cell_type": "markdown",
      "metadata": {
        "id": "xCa2bK9aD4Q3"
      },
      "source": [
        "(10) Write a Python program to concatenate following dictionaries to create a new one.\n",
        "\n",
        "Sample Dictionary : dic1={1:10, 2:20}, dic2={3:30, 4:40}, dic3={5:50,6:60},\n",
        "\n",
        "Expected Result : {1: 10, 2: 20, 3: 30, 4: 40, 5: 50, 6: 60}\n"
      ]
    },
    {
      "cell_type": "code",
      "execution_count": 33,
      "metadata": {
        "id": "_z4aLqAbEET1",
        "colab": {
          "base_uri": "https://localhost:8080/"
        },
        "outputId": "ce2ad6d4-3a44-4d05-a0e2-b86a62723bb1"
      },
      "outputs": [
        {
          "output_type": "stream",
          "name": "stdout",
          "text": [
            "{1: 10, 2: 20, 3: 30, 4: 40, 5: 50, 6: 60}\n"
          ]
        }
      ],
      "source": [
        "# write your answer here\n",
        "dic1={1:10, 2:20}\n",
        "dic2={3:30, 4:40}\n",
        "dic3={5:50,6:60}\n",
        "new_dic={}\n",
        "new_dic.update(dic1)\n",
        "new_dic.update(dic2)\n",
        "new_dic.update(dic3)\n",
        "print(new_dic)\n"
      ]
    },
    {
      "cell_type": "markdown",
      "source": [
        "(11) Design a Python function that takes a tuple of integers as input and returns the largest and smallest elements."
      ],
      "metadata": {
        "id": "bkyZ2xSZUOst"
      }
    },
    {
      "cell_type": "code",
      "source": [
        "# write your answer here\n",
        "input1=input(\"Enter the tuple of numbers : \")\n",
        "tuple1=tuple(int(x) for x in input1.split())\n",
        "max_num=max(tuple1)\n",
        "min_num=min(tuple1)\n",
        "print(max_num,min_num)\n"
      ],
      "metadata": {
        "id": "3FdLRBKOUQEd",
        "colab": {
          "base_uri": "https://localhost:8080/"
        },
        "outputId": "9cf0fb02-da0c-4338-bcba-20a033c63ff2"
      },
      "execution_count": 34,
      "outputs": [
        {
          "output_type": "stream",
          "name": "stdout",
          "text": [
            "Enter the tuple of numbers : 1 2 3 4 5 6 7\n",
            "7 1\n"
          ]
        }
      ]
    },
    {
      "cell_type": "markdown",
      "source": [
        "(12) Write a Python program that counts the frequency of each character in a given string and stores it in a dictionary."
      ],
      "metadata": {
        "id": "O0TVi3gKUTpp"
      }
    },
    {
      "cell_type": "code",
      "source": [
        "# write your answer here\n",
        "string1=input(\"Enter the input string : \")\n",
        "dict1={}#creating a empty diictionary\n",
        "for char in string1:\n",
        "  if char in dict1:\n",
        "    dict1[char]+=1\n",
        "  else :\n",
        "    dict1[char]=1\n",
        "print(dict1)\n"
      ],
      "metadata": {
        "id": "lAtfSfZXUU-h",
        "colab": {
          "base_uri": "https://localhost:8080/"
        },
        "outputId": "eeb1709c-d6e4-4068-ef1d-be79d8e4547d"
      },
      "execution_count": 35,
      "outputs": [
        {
          "output_type": "stream",
          "name": "stdout",
          "text": [
            "Enter the input string : I am studying in US\n",
            "{'I': 1, ' ': 4, 'a': 1, 'm': 1, 's': 1, 't': 1, 'u': 1, 'd': 1, 'y': 1, 'i': 2, 'n': 2, 'g': 1, 'U': 1, 'S': 1}\n"
          ]
        }
      ]
    },
    {
      "cell_type": "markdown",
      "metadata": {
        "id": "0v48Vqa7FrQh"
      },
      "source": [
        "(13) Implement a Python script to identify duplicate elements in a provided array of integers. Return -1 if there are no duplicates."
      ]
    },
    {
      "cell_type": "code",
      "execution_count": 44,
      "metadata": {
        "id": "7WEmgq-DF2P1",
        "colab": {
          "base_uri": "https://localhost:8080/"
        },
        "outputId": "6bf94d4f-2252-49b8-c8d3-db6b6fa18a33"
      },
      "outputs": [
        {
          "output_type": "stream",
          "name": "stdout",
          "text": [
            "-1\n"
          ]
        }
      ],
      "source": [
        "# write your answer here\n",
        "def find_duplicates(arr):\n",
        "  char=set()\n",
        "  duplicates=set()\n",
        "  for num in arr:\n",
        "    if num in char:\n",
        "      duplicates.add(num)\n",
        "    else :\n",
        "      char.add(num)\n",
        "  if not duplicates:\n",
        "    return -1\n",
        "  else :\n",
        "     return list(duplicates)\n",
        "\n",
        "array1=[1,2,3,4,5,6]\n",
        "result=find_duplicates(array1)\n",
        "print(result)\n",
        "\n",
        "\n"
      ]
    },
    {
      "cell_type": "markdown",
      "metadata": {
        "id": "vD5PYLMuGga_"
      },
      "source": [
        "(14) Write a Python script to find the common elements between two lists."
      ]
    },
    {
      "cell_type": "code",
      "execution_count": 46,
      "metadata": {
        "id": "t0D5kdJUGjjw",
        "colab": {
          "base_uri": "https://localhost:8080/"
        },
        "outputId": "a1e6a6ed-d078-444d-eb32-04c22692a3f3"
      },
      "outputs": [
        {
          "output_type": "stream",
          "name": "stdout",
          "text": [
            "{1, 2, 3, 4, 5}\n"
          ]
        }
      ],
      "source": [
        "# write your answer here\n",
        "list1=[1,2,3,4,5]\n",
        "list2=[6,5,4,3,2,1]\n",
        "set1=set(list1)\n",
        "set2=set(list2)\n",
        "common=set1 & set2\n",
        "if common:\n",
        "  print(set1 & set2)\n",
        "else:\n",
        "  print(\"no common elements\")\n"
      ]
    },
    {
      "cell_type": "markdown",
      "metadata": {
        "id": "uHkd-y5VhVWC"
      },
      "source": [
        "(15) Write a Python program to randomly divide the students in this class into six groups for term projects, each group should have at least 4 students but no more than 6 students (including 6).\n",
        "\n",
        "Here is the students list:\n",
        "\n",
        "student_list_spring_2024=[rb0846,\n",
        "ac1964,\n",
        "hc0612,\n",
        "md0912,\n",
        "ad1198,\n",
        "md0894,\n",
        "md0825,\n",
        "vg0598,\n",
        "vg0433,\n",
        "mh1068,\n",
        "yj0173,\n",
        "pk0553,\n",
        "tk0411,\n",
        "srk0204,\n",
        "sk2922,\n",
        "sk2936,\n",
        "mk1302,\n",
        "mk1317,\n",
        "tk0412,\n",
        "vk0656,\n",
        "sm2985,\n",
        "mm2372,\n",
        "un0045,\n",
        "an0892,\n",
        "sn0913,\n",
        "gp0252,\n",
        "ap1484,\n",
        "mr1765,\n",
        "sr1385,\n",
        "sr1335,\n",
        "hs0665,\n",
        "ms2060,\n",
        "gt0217,\n",
        "nt0385,\n",
        "tv0186,\n",
        "sv1394,\n",
        "sv1752,\n",
        "sv1555,\n",
        "sy0594\n",
        "]\n"
      ]
    },
    {
      "cell_type": "code",
      "execution_count": 6,
      "metadata": {
        "id": "3iGbmcOBhTwy",
        "colab": {
          "base_uri": "https://localhost:8080/"
        },
        "outputId": "5f408532-e50c-45f9-b55a-93f2c9c73429"
      },
      "outputs": [
        {
          "output_type": "stream",
          "name": "stdout",
          "text": [
            "Group 1: tk0411, sr1335, ms2060, md0825, gt0217, gp0252, sv1394\n",
            "Group 2: mk1302, md0912, mh1068, hs0665, sm2985, srk0204, ac1964\n",
            "Group 3: hc0612, mm2372, vg0433, md0894, sv1555, an0892, sn0913\n",
            "Group 4: vk0656, sr1385, yj0173, sk2936, ap1484, rb0846\n",
            "Group 5: un0045, tv0186, sk2922, sy0594, pk0553, mk1317\n",
            "Group 6: nt0385, ad1198, vg0598, tk0412, mr1765, sv1752\n"
          ]
        }
      ],
      "source": [
        "import random\n",
        "\n",
        "def divide_students_into_groups(student_list, min_students, max_students):\n",
        "    random.shuffle(student_list)\n",
        "    num_students = len(student_list)\n",
        "    num_groups = min(num_students // min_students, num_students // max_students)\n",
        "    project_groups = [[] for _ in range(num_groups)]\n",
        "\n",
        "    for i, student in enumerate(student_list):\n",
        "        group_index = i % num_groups\n",
        "        project_groups[group_index].append(student)\n",
        "    return project_groups\n",
        "\n",
        "student_list_spring_2024 = [\"rb0846\", \"ac1964\", \"hc0612\", \"md0912\", \"ad1198\", \"md0894\", \"md0825\", \"vg0598\",\"vg0433\", \"mh1068\", \"yj0173\", \"pk0553\", \"tk0411\", \"srk0204\", \"sk2922\", \"sk2936\",\n",
        "                            \"mk1302\", \"mk1317\", \"tk0412\", \"vk0656\", \"sm2985\", \"mm2372\", \"un0045\", \"an0892\",\"sn0913\", \"gp0252\", \"ap1484\", \"mr1765\", \"sr1385\", \"sr1335\", \"hs0665\", \"ms2060\",\n",
        "                            \"gt0217\", \"nt0385\", \"tv0186\", \"sv1394\", \"sv1752\", \"sv1555\", \"sy0594\"]\n",
        "min_students = 4\n",
        "max_students = 6\n",
        "project_groups = divide_students_into_groups(student_list_spring_2024, min_students, max_students)\n",
        "\n",
        "# Display the groups\n",
        "for i, group in enumerate(project_groups, start=1):\n",
        "    print(f\"Group {i}: {', '.join(group)}\")"
      ]
    },
    {
      "cell_type": "markdown",
      "metadata": {
        "id": "fmZ9vX20Qs3d"
      },
      "source": [
        "(16) Create a program that takes a positive integer 'n' as input and prints the count of even numbers from 1 to 'n'. Optimize the loop using the break statement."
      ]
    },
    {
      "cell_type": "code",
      "execution_count": 63,
      "metadata": {
        "id": "W8Jw6sWMQs3d",
        "colab": {
          "base_uri": "https://localhost:8080/"
        },
        "outputId": "66f9fac0-faf0-47bf-b468-fd2e677910fb"
      },
      "outputs": [
        {
          "output_type": "stream",
          "name": "stdout",
          "text": [
            "Enter the number : 10\n",
            "5\n"
          ]
        }
      ],
      "source": [
        "# write your answer here\n",
        "def even_number_count(num):\n",
        "  count=0\n",
        "  for i in range(1,num+1):\n",
        "    if i %2==0 :\n",
        "     count+=1\n",
        "    elif i>num :\n",
        "      break\n",
        "  return count\n",
        "\n",
        "input1=int(input(\"Enter the number : \"))\n",
        "result=even_number_count(input1)\n",
        "print(result)\n",
        "\n",
        "\n"
      ]
    },
    {
      "cell_type": "markdown",
      "metadata": {
        "id": "hvq4APMhQs3d"
      },
      "source": [
        "(17) Develop a Python function called 'count_vowels' that takes a string as input and returns the count of vowels (both lowercase and uppercase) present in the string, ignoring spaces and non-alphabetic characters."
      ]
    },
    {
      "cell_type": "code",
      "execution_count": 66,
      "metadata": {
        "id": "ZnoxhSglQs3d",
        "colab": {
          "base_uri": "https://localhost:8080/"
        },
        "outputId": "0d6e88c3-c5e4-4e3e-fa50-11ea5d9d3e1c"
      },
      "outputs": [
        {
          "output_type": "stream",
          "name": "stdout",
          "text": [
            "Enter the input string : I am a student\n",
            "5\n"
          ]
        }
      ],
      "source": [
        "# write your answer here\n",
        "\n",
        "def count_vowels(string1):\n",
        "  count_vowels=0\n",
        "  vowels='aeiouAEIOU'\n",
        "  for char in string1:\n",
        "    if char in vowels:\n",
        "      count_vowels+=1\n",
        "  return(count_vowels)\n",
        "\n",
        "string1=input(\"Enter the input string : \")\n",
        "result=count_vowels(string1)\n",
        "print(result)"
      ]
    },
    {
      "cell_type": "markdown",
      "source": [
        "(18) Create a custom exception named ValueTooSmallError in Python. Write a program that takes user input for an age, and if the entered age is less than 18, raise the ValueTooSmallError with an appropriate error message."
      ],
      "metadata": {
        "id": "55FWoSJPVVM6"
      }
    },
    {
      "cell_type": "code",
      "source": [
        "# write your answer here\n",
        "\"\"\" when the provided input value is too small\"\"\"\n",
        "class ValueTooSmallError(Exception):\n",
        "    pass\n",
        "def get_age():\n",
        "    while True:\n",
        "        try:\n",
        "            Age = int(input(\"Enter age: \"))\n",
        "            if Age < 18:\n",
        "                raise ValueTooSmallError(\"Age should be 18 or older\")\n",
        "            else:\n",
        "                print(\"Age provided is valid:\", Age)\n",
        "                break\n",
        "        except ValueError:\n",
        "            print(\"Invalid input. Please enter a valid age (a number).\")\n",
        "        except ValueTooSmallError as e:\n",
        "            print(e)\n",
        "get_age()\n",
        "\n"
      ],
      "metadata": {
        "id": "hwtr1wZmVX5A",
        "colab": {
          "base_uri": "https://localhost:8080/"
        },
        "outputId": "8c1345e6-a3cd-4177-a7ec-dd48461a779c"
      },
      "execution_count": 78,
      "outputs": [
        {
          "output_type": "stream",
          "name": "stdout",
          "text": [
            "Enter age: 15\n",
            "Age should be 18 or older\n",
            "Enter age: 25\n",
            "Age provided is valid: 25\n"
          ]
        }
      ]
    },
    {
      "cell_type": "markdown",
      "source": [
        "(19) Develop a script that reverses a given string without using built-in reverse functions."
      ],
      "metadata": {
        "id": "Q9ecagcaVazW"
      }
    },
    {
      "cell_type": "code",
      "source": [
        "# write your answer here\n",
        "def string_reverse(str):\n",
        "  reverse=str[::-1]\n",
        "  return reverse\n",
        "string1=input(\"Enter the input string : \")\n",
        "result=string_reverse(string1)\n",
        "print(result)\n"
      ],
      "metadata": {
        "id": "gycgckoAVZjR",
        "colab": {
          "base_uri": "https://localhost:8080/"
        },
        "outputId": "942497ac-32d6-40c2-be95-7bb9901ca074"
      },
      "execution_count": 69,
      "outputs": [
        {
          "output_type": "stream",
          "name": "stdout",
          "text": [
            "Enter the input string : School\n",
            "loohcS\n"
          ]
        }
      ]
    },
    {
      "cell_type": "markdown",
      "source": [
        "(20) Implement a Python script to generate a random password of a specified length."
      ],
      "metadata": {
        "id": "ZFG6RibifMLu"
      }
    },
    {
      "cell_type": "code",
      "source": [
        "# write your answer here\n",
        "import random\n",
        "import string\n",
        "def password_generate(password_length):\n",
        " password_characters=string.ascii_letters +string.digits +string.punctuation\n",
        " password=''.join(random.choice(password_characters) for i in range(password_length))\n",
        " return password\n",
        "\n",
        "length=int(input(\"Enter the length of the password required : \"))\n",
        "result=password_generate(length)\n",
        "print(result)"
      ],
      "metadata": {
        "id": "BFVrkEi9fNiD",
        "colab": {
          "base_uri": "https://localhost:8080/"
        },
        "outputId": "fdf58c68-2358-4c0f-d1fd-326c4129e35c"
      },
      "execution_count": 72,
      "outputs": [
        {
          "output_type": "stream",
          "name": "stdout",
          "text": [
            "Enter the length of the password required : 6\n",
            "t93_+'\n"
          ]
        }
      ]
    },
    {
      "cell_type": "markdown",
      "source": [
        "# Try these questions:"
      ],
      "metadata": {
        "id": "6SmvS7nSfbj8"
      }
    },
    {
      "cell_type": "markdown",
      "source": [
        "(21) Define a base class called 'Vehicle' with attributes make and model. Create a derived class Car that inherits from Vehicle and has an additional attribute 'num_doors'. Demonstrate an example of creating an instance of the 'Car' class and accessing its attributes."
      ],
      "metadata": {
        "id": "cboAr5pEWUf5"
      }
    },
    {
      "cell_type": "code",
      "source": [
        "# write your answer here\n",
        "class Vehicle:\n",
        "    def __init__(self, make, model):\n",
        "        self.make = make\n",
        "        self.model = model\n",
        "\n",
        "class Car(Vehicle): # Car class is derived from vehicle class\n",
        "    def __init__(self, make, model, num_doors):\n",
        "        super().__init__(make, model)\n",
        "        self.num_doors = num_doors\n",
        "\n",
        "\n",
        "mycar = Car(\"Nissan\", \"Altima\", 4)\n",
        "print(\"make:\", mycar.make)\n",
        "print(\"model:\", mycar.model)\n",
        "print(\"number of doors:\", mycar.num_doors)\n",
        "\n"
      ],
      "metadata": {
        "id": "phs9gciMWWAW",
        "colab": {
          "base_uri": "https://localhost:8080/"
        },
        "outputId": "bacae9d8-e46f-406f-be83-4b23c91644c5"
      },
      "execution_count": 84,
      "outputs": [
        {
          "output_type": "stream",
          "name": "stdout",
          "text": [
            "make: Nissan\n",
            "model: Altima\n",
            "number of doors: 4\n"
          ]
        }
      ]
    },
    {
      "cell_type": "markdown",
      "source": [
        "(22) Create a class called 'Shape' with a method calculate_area(). Implement two derived classes 'Circle' and 'Rectangle' that inherit from Shape and override the calculate_area() method. Demonstrate polymorphism by creating instances of both derived classes and calling the calculate_area() method."
      ],
      "metadata": {
        "id": "J8HHefNtePwd"
      }
    },
    {
      "cell_type": "code",
      "source": [
        "# write your answer here\n",
        "import math\n",
        "class Shape:\n",
        "    def calculate_area(self):\n",
        "        pass\n",
        "\n",
        "class Circle(Shape):\n",
        "    def __init__(self, radius):\n",
        "        self.radius = radius\n",
        "    def calculate_area(self):\n",
        "        return math.pi * self.radius ** 2\n",
        "\n",
        "class Rectangle(Shape):\n",
        "    def __init__(self, width, height):\n",
        "        self.width = width\n",
        "        self.height = height\n",
        "    def calculate_area(self):\n",
        "        return self.width * self.height\n",
        "\n",
        "# Demonstration of polymorphism\n",
        "circle_area = Circle(10)\n",
        "rectangle_area = Rectangle(2, 6)\n",
        "\n",
        "print(\"Area of circle:\", circle_area.calculate_area())\n",
        "print(\"Area of rectangle:\", rectangle_area.calculate_area())"
      ],
      "metadata": {
        "id": "btnMmUZDeRhS",
        "colab": {
          "base_uri": "https://localhost:8080/"
        },
        "outputId": "4fbd34ca-e999-46f2-d25d-0f01268d0400"
      },
      "execution_count": 86,
      "outputs": [
        {
          "output_type": "stream",
          "name": "stdout",
          "text": [
            "Area of circle: 314.1592653589793\n",
            "Area of rectangle: 12\n"
          ]
        }
      ]
    },
    {
      "cell_type": "markdown",
      "source": [
        "(23) Write a Python program that prompts the user to enter two numbers and perform a division operation. Handle exceptions for both zero division and invalid input (non-numeric input). Display appropriate error messages for each type of exception and ensure the program does not crash due to these errors."
      ],
      "metadata": {
        "id": "z0oqEAlTeMUS"
      }
    },
    {
      "cell_type": "code",
      "source": [
        "# write your answer here"
      ],
      "metadata": {
        "id": "yjdc1zM1eMAs"
      },
      "execution_count": null,
      "outputs": []
    },
    {
      "cell_type": "markdown",
      "source": [
        "# Mandatory Question"
      ],
      "metadata": {
        "id": "sZOhks1dXWEe"
      }
    },
    {
      "cell_type": "markdown",
      "source": [
        "**Important:**\n",
        "Reflecting on the first three lectures and the exercises you've completed, please provide feedback on your learning experience. Share your thoughts on whether the material covered was clear, the exercises were helpful, and if you feel more confident in applying Python programming concepts. Additionally, mention any specific areas where you would like more clarification or topics you would like to explore further in future lectures. Your feedback is valuable in shaping the course for an effective learning journey."
      ],
      "metadata": {
        "id": "eqmHVEwaWhbV"
      }
    },
    {
      "cell_type": "markdown",
      "source": [
        "Write your response here."
      ],
      "metadata": {
        "id": "HlpXOT9wXQAd"
      }
    },
    {
      "cell_type": "code",
      "source": [],
      "metadata": {
        "id": "Dq2aOZU7XIke"
      },
      "execution_count": 8,
      "outputs": []
    },
    {
      "cell_type": "markdown",
      "source": [
        "I have learned python coding from basics through these lectures.It is very useful and they are very clear with instructions."
      ],
      "metadata": {
        "id": "Kni_zteqXw_J"
      }
    }
  ],
  "metadata": {
    "colab": {
      "provenance": [],
      "include_colab_link": true
    },
    "kernelspec": {
      "display_name": "Python 3 (ipykernel)",
      "language": "python",
      "name": "python3"
    },
    "language_info": {
      "codemirror_mode": {
        "name": "ipython",
        "version": 3
      },
      "file_extension": ".py",
      "mimetype": "text/x-python",
      "name": "python",
      "nbconvert_exporter": "python",
      "pygments_lexer": "ipython3",
      "version": "3.9.12"
    }
  },
  "nbformat": 4,
  "nbformat_minor": 0
}