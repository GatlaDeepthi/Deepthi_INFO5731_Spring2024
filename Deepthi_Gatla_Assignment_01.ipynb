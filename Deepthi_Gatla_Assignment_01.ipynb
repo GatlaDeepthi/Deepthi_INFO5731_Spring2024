{
  "cells": [
    {
      "cell_type": "markdown",
      "metadata": {
        "id": "view-in-github",
        "colab_type": "text"
      },
      "source": [
        "<a href=\"https://colab.research.google.com/github/GatlaDeepthi/Deepthi_INFO5731_Spring2024/blob/main/Deepthi_Gatla_Assignment_01.ipynb\" target=\"_parent\"><img src=\"https://colab.research.google.com/assets/colab-badge.svg\" alt=\"Open In Colab\"/></a>"
      ]
    },
    {
      "cell_type": "markdown",
      "metadata": {
        "id": "Ryk8D1Q4Wsrp"
      },
      "source": [
        "# **INFO5731 Assignment One**"
      ]
    },
    {
      "cell_type": "markdown",
      "source": [
        "This assignment includes range of programming tasks and data analysis exercises, aiming to enhance your Python skills and proficiency in string manipulation, numerical computations, and data science. Follow the instructions carefully and design well-structured Python programs to address each question.\n",
        "\n",
        "Late Submission will have a penalty of 10% reduction for each day after the deadline."
      ],
      "metadata": {
        "id": "qcP6re2g5A5r"
      }
    },
    {
      "cell_type": "markdown",
      "metadata": {
        "id": "JkzR8cFAyGik"
      },
      "source": [
        "# Question 1 (10 points).\n",
        "\n",
        "The formula that describes the volume V of a hemisphere with radius r is the following:\n",
        "\n",
        "$ V=\\frac{2}{3}\\ast\\ \\pi\\ast\\ r^3 $\n",
        "\n",
        "Write a program to calculate the value of V when r is in the range of even numbers from 1-20. Output the result in the following format:\n",
        "\n",
        "\tr\tV\n",
        "\t2\t…\n",
        "\t4\t…\n",
        "\t6\t…\n",
        "\t.\n",
        "\t.\n",
        "\t.\n",
        "\t20\t…\n"
      ]
    },
    {
      "cell_type": "code",
      "execution_count": 10,
      "metadata": {
        "id": "jDyTKYs-yGit",
        "colab": {
          "base_uri": "https://localhost:8080/"
        },
        "outputId": "e739b674-ed6b-4a45-ef42-6b7e38046777"
      },
      "outputs": [
        {
          "output_type": "stream",
          "name": "stdout",
          "text": [
            "2  16.76190476190476\n",
            "3  56.57142857142856\n",
            "4  134.09523809523807\n",
            "5  261.90476190476187\n",
            "6  452.5714285714285\n",
            "7  718.6666666666665\n",
            "8  1072.7619047619046\n",
            "9  1527.428571428571\n",
            "10  2095.238095238095\n",
            "11  2788.761904761904\n",
            "12  3620.571428571428\n",
            "13  4603.2380952380945\n",
            "14  5749.333333333332\n",
            "15  7071.428571428571\n",
            "16  8582.095238095237\n",
            "17  10293.90476190476\n",
            "18  12219.428571428569\n",
            "19  14371.238095238094\n",
            "20  16761.90476190476\n"
          ]
        }
      ],
      "source": [
        "# Your code here\n",
        "def Hemisphere_Volume(radius):\n",
        "  pi=22/7\n",
        "  V=(2/3)*pi*((radius)**3)\n",
        "  return V\n",
        "for r in range(2,21):\n",
        "  Volume=Hemisphere_Volume(r)\n",
        "  print(r, Volume,sep=\"  \")\n"
      ]
    },
    {
      "cell_type": "markdown",
      "metadata": {
        "id": "90_NR8c5XGWc"
      },
      "source": [
        "# Question 2 (20 points)\n",
        "\n",
        "(a) Write a Python program to generate a sequence of 12 random numbers falling within the range of 50 to 150.\n",
        "\n",
        "(b) Arrange the generated numbers in ascending order. Display the sorted list.\n",
        "\n",
        "(c) Extend the program to arrange the numbers in descending order as well. Present the sorted list accordingly.\n",
        "\n",
        "(d) Compute and output the average of the entire group of generated numbers.\n",
        "\n",
        "(e) Enhance the program to calculate and display the average of the first 6 numbers from both the ascending and descending sorted lists."
      ]
    },
    {
      "cell_type": "code",
      "execution_count": 27,
      "metadata": {
        "id": "5QX6bJjGWXY9",
        "colab": {
          "base_uri": "https://localhost:8080/"
        },
        "outputId": "364ba841-b48d-4404-b67a-40a8d45f7396"
      },
      "outputs": [
        {
          "output_type": "stream",
          "name": "stdout",
          "text": [
            "[115, 123, 139, 32, 68, 40, 44, 60, 85, 55, 120, 41]\n",
            "[32, 40, 41, 44, 55, 60, 68, 85, 115, 120, 123, 139]\n",
            "[139, 123, 120, 115, 85, 68, 60, 55, 44, 41, 40, 32]\n",
            "76.83333333333333\n",
            "73.25\n"
          ]
        }
      ],
      "source": [
        "# Write code for each of the sub parts with proper comments.\n",
        "#First lets generate the 12 random numbers in the range 50 to 150\n",
        "#Here we are using the random.sample()\n",
        "import random\n",
        "random_sequence=random.sample(range(5,151),12)\n",
        "print(random_sequence)\n",
        "#Arranging the generated sequence of numbers in ascending order\n",
        "ascending_order=sorted(random_sequence)\n",
        "print(ascending_order)\n",
        "#Arranging the generated sequence of numbers in descending order\n",
        "descending_order=sorted(ascending_order,reverse=True)\n",
        "print(descending_order)\n",
        "#Calculating the average for the generated random sequence\n",
        "Average_numbers=sum(random_sequence)/12\n",
        "print(Average_numbers)\n",
        "#Calculating average of first 6 numbers from both ascending and descending orders\n",
        "ascending_sum=sum(ascending_order[1:7])\n",
        "descending_sum=sum(descending_order[1:7])\n",
        "average1=(ascending_sum+descending_sum)/12\n",
        "print(average1)"
      ]
    },
    {
      "cell_type": "markdown",
      "metadata": {
        "id": "1F_PZdH9Sh49"
      },
      "source": [
        "# Question 3 (20 points).\n",
        "\n",
        "Create a Python program that encompasses various string manipulation task:\n",
        "\n",
        "(a) Prompt the user to input two sentences.\n",
        "\n",
        "(b) Transform each sentence into a list, where each element corresponds to a word in the sentence. For example, if the sentences are \"Hello, how are you doing today?\" and \"This is an example sentence for the program!\"\n",
        "\n",
        "The program should output:\n",
        "['Hello', ',', 'how', 'are', 'you', 'doing', 'today', '?', 'This', 'is', 'an', 'example', 'sentence', 'for', 'the', 'program', '!']\n",
        "\n",
        "(c) Compare the two sentences. Print out a list of words that occur in both sentences.\n",
        "\n",
        "(d) Remove any punctuation from the sentence and print the sanitized sentences. It should remove at least the following characters, but it can remove more: period(“.”), comma (“,”), semicolon (“;”), and colon (“:”).\n",
        "\n",
        "(e) Count the number of vowels in each of the sentences. Print out each vowel and the occurrences  in the each of the two sentences separately, such as:\n",
        "\n",
        "Sentence1: a:2, e:2, i:0, etc.\n",
        "Sentence2: a:1, e:2, i:2, etc.\n",
        "\n",
        "Design a well-structured Python program to execute these tasks efficiently."
      ]
    },
    {
      "cell_type": "code",
      "execution_count": 68,
      "metadata": {
        "id": "Y0oOSlsOS0cq",
        "colab": {
          "base_uri": "https://localhost:8080/"
        },
        "outputId": "e1cb8f5a-5339-4422-8ece-9ee622e787e2"
      },
      "outputs": [
        {
          "output_type": "stream",
          "name": "stdout",
          "text": [
            "Enter the  input sentence1: hi how are you\n",
            "Enter the input sentence2: hi hoe are you\n",
            "['hi', 'how', 'are', 'you']\n",
            "['hi', 'hoe', 'are', 'you']\n",
            "{'you', 'are', 'hi'}\n",
            "hi how are you\n",
            "hi hoe are you\n"
          ]
        },
        {
          "output_type": "execute_result",
          "data": {
            "text/plain": [
              "{'i': 1, 'o': 2, 'e': 2, 'a': 1, 'u': 1}"
            ]
          },
          "metadata": {},
          "execution_count": 68
        }
      ],
      "source": [
        "# Your code here\n",
        "sentence1 = input(\"Enter the  input sentence1: \")\n",
        "sentence2 = input(\"Enter the input sentence2: \")\n",
        "Sentence1_words=sentence1.split()\n",
        "print(Sentence1_words)\n",
        "Sentence2_words=sentence2.split()\n",
        "print(Sentence2_words)\n",
        "common_list=set(Sentence1_words).intersection(Sentence2_words)\n",
        "print(common_list)\n",
        "punctuation=[\".\",\",\",\":\",\";\",\"!\",\"?\"]\n",
        "for i in sentence1:\n",
        "  if i in punctuation:\n",
        "    sentence1=sentence1.replace(i,\"\")\n",
        "print(sentence1)\n",
        "for j in sentence2:\n",
        "  if j in punctuation:\n",
        "    sentence2=sentence2.replace(j,\"\")\n",
        "print(sentence2)\n",
        "Vowels=[\"a\",\"e\",\"i\",\"o\",\"u\"]\n",
        "d1={}\n",
        "for i in sentence1:\n",
        "  if i in Vowels:\n",
        "    d1[i]=sentence1.count(i)\n",
        "d1"
      ]
    },
    {
      "cell_type": "code",
      "source": [
        "d2={}\n",
        "for i in sentence2:\n",
        "  if i in Vowels:\n",
        "    d2[i]=sentence2.count(i)\n",
        "d2"
      ],
      "metadata": {
        "colab": {
          "base_uri": "https://localhost:8080/"
        },
        "id": "vhDNctATZUVI",
        "outputId": "3deef7ad-d39d-4965-96f0-acfb2b84354f"
      },
      "execution_count": 91,
      "outputs": [
        {
          "output_type": "execute_result",
          "data": {
            "text/plain": [
              "{'i': 1, 'o': 2, 'e': 2, 'a': 1, 'u': 1}"
            ]
          },
          "metadata": {},
          "execution_count": 91
        }
      ]
    },
    {
      "cell_type": "markdown",
      "source": [
        "# Question 4 (20 Points)"
      ],
      "metadata": {
        "id": "OP4-5qxAtInv"
      }
    },
    {
      "cell_type": "markdown",
      "source": [
        "Design and implement a simple command-line calculator program. The program should handle both integers and floating-point numbers.\n",
        "\n",
        "(a) Write program that takes a mathematical expression as input and evaluates it. The program should support addition, subtraction, multiplication, and division.\n",
        "\n",
        "(b) Extend the calculator to handle parentheses in mathematical expressions. Implement the necessary logic to evaluate expressions with nested parentheses.\n",
        "\n",
        "(c) Enhance your calculator to include additional mathematical operations such as exponentiation, square root, and modulus.\n",
        "\n",
        "(d) Implement error handling in the calculator program. Handle cases such as division by zero and invalid input expressions. Provide meaningful error messages.\n",
        "\n",
        "(e) Implement a command to exit the calculator."
      ],
      "metadata": {
        "id": "uzN4_hDptK9U"
      }
    },
    {
      "cell_type": "code",
      "source": [
        "import math\n",
        "\n",
        "def evaluate_expression(expression):\n",
        "    try:\n",
        "        # Evaluate the expression\n",
        "        return eval(expression, {\"__builtins__\": None}, {\"math\": math})\n",
        "    except ZeroDivisionError:\n",
        "        print(\"Error: Division by zero\")\n",
        "        return None\n",
        "    except Exception as err:\n",
        "        print(\"Error:\", err)\n",
        "        return None\n",
        "\n",
        "def main():\n",
        "    print(\"Please type 'exit' to quit the calculator.\")\n",
        "\n",
        "    while True:\n",
        "        user_expression = input(\"Enter the mathematical expression: \")\n",
        "\n",
        "        if user_expression.lower() == 'exit':\n",
        "            print(\"Exiting the calculator.\")\n",
        "            break\n",
        "\n",
        "        result = evaluate_expression(user_expression)\n",
        "        if result is not None:\n",
        "            print(\"Result:\", result)\n",
        "\n",
        "if __name__ == \"__main__\":\n",
        "    main()\n"
      ],
      "metadata": {
        "colab": {
          "base_uri": "https://localhost:8080/"
        },
        "id": "aXuDJBKDfwtV",
        "outputId": "f3b65261-f476-479d-8760-a99689676c7e"
      },
      "execution_count": 101,
      "outputs": [
        {
          "output_type": "stream",
          "name": "stdout",
          "text": [
            "Please type 'exit' to quit the calculator.\n",
            "Enter the mathematical expression: math.sqrt(25)\n",
            "Result: 5.0\n",
            "Enter the mathematical expression: 5%2\n",
            "Result: 1\n",
            "Enter the mathematical expression: 2+2\n",
            "Result: 4\n",
            "Enter the mathematical expression: 2*3\n",
            "Result: 6\n",
            "Enter the mathematical expression: 5-3\n",
            "Result: 2\n",
            "Enter the mathematical expression: 4/2\n",
            "Result: 2.0\n",
            "Enter the mathematical expression: 5**4\n",
            "Result: 625\n",
            "Enter the mathematical expression: 2+(3*2)\n",
            "Result: 8\n",
            "Enter the mathematical expression: 2/0\n",
            "Error: Division by zero!\n",
            "Enter the mathematical expression: exit\n",
            "Exiting the calculator.\n"
          ]
        }
      ]
    },
    {
      "cell_type": "markdown",
      "metadata": {
        "id": "z3tBE7E-Xn5X"
      },
      "source": [
        "# Question 5 (30 points).\n",
        "\n",
        "In the field of Data Science, data is often formatted as a comma-delimited (CSV) file, where each line in a file corresponds to a field's value. Refer to Chapter 9 (p. 106) for more information on comma-delimited files.\n",
        "\n",
        "To answer this question, you will need to download the file [Assignment1_denton_housing.csv](https://raw.githubusercontent.com/unt-iialab/info5731-spring2022/main/assignments/Assignment1_denton_housing.csv) included with this assignment. The file contains statistics about housing in the city of Denton from 2008 to 2014. Write a program to implement the following questions.\n",
        "\n",
        "(a) (5 pts) Calculate the difference in the number of Occupied Housing Units from year to year and print it. The difference must be calculated for the consecutive years such as 2008-2009, 2009-2010 etc. Finally, print the values in the ascending order.\n",
        "\n",
        "(b) (5 pts) For all the years, calculate the percentage of housing units which are vacant an occupied. Print the results in the following format:\n",
        "\n",
        "Year Vacant Housing Units Occupied Housing Units\n",
        "\n",
        "    2008  30%   70%                          \n",
        "\t2009 ----- -----\n",
        "\t2010 ----- -----\n",
        "    2011 ----- -----\n",
        "\t2012 ----- -----\n",
        "    2013 ----- -----\n",
        "\t2014 ----- -----\n",
        "  \n",
        "  \n",
        "\n",
        "(c) (10 pts) Calculate and print the valued and years in which the highest number of housing units were vacant and occupied. Print the results in the following format:  \n",
        "\n",
        "                              Year\tValue\n",
        "\tVacant Housing Units\t  -----   -----\n",
        "\tOccupied Housing Units\t-----   -----\n",
        "\n",
        "(d) (10 pts) Calculate the harmonic mean of the total housing units and print it out. You can find the information about harmonic mean here: https://ncalculators.com/statistics/harmonic-mean-calculator.htm"
      ]
    },
    {
      "cell_type": "code",
      "execution_count": 44,
      "metadata": {
        "id": "lqGYuHBhcsRH",
        "colab": {
          "base_uri": "https://localhost:8080/"
        },
        "outputId": "c7a0025e-75ce-43f9-cd8c-d943f2380cc1"
      },
      "outputs": [
        {
          "output_type": "stream",
          "name": "stdout",
          "text": [
            "Mounted at /content/drive\n"
          ]
        }
      ],
      "source": [
        " # Your code here\n",
        " #Importing Google drive\n",
        "from google.colab import drive\n",
        "drive.mount('/content/drive')"
      ]
    },
    {
      "cell_type": "code",
      "source": [
        "#providing the path for the required dataset\n",
        "path='/content/drive/My Drive/Assignment1_denton_housing.csv'"
      ],
      "metadata": {
        "id": "dhTL6Qtr_aPV"
      },
      "execution_count": 50,
      "outputs": []
    },
    {
      "cell_type": "code",
      "source": [
        "#Importing the required libraries and reading the csv file\n",
        "import pandas as pd\n",
        "from collections import Counter\n",
        "dataframe1 = pd.read_csv(path)"
      ],
      "metadata": {
        "id": "MpA9jjdC_ro3"
      },
      "execution_count": 52,
      "outputs": []
    },
    {
      "cell_type": "code",
      "source": [
        "p = {} # creating empty dictionary to store the values\n",
        "unique_years = sorted(set(dataframe1['year']))\n",
        "for i in range(len(unique_years) - 1):\n",
        "    j = unique_years[i] #Assigning the current year to j\n",
        "    Currentyear = 0\n",
        "    nextyear = 0\n",
        "    for index, row in dataframe1.iterrows():\n",
        "        if row['year'] == j and row['title_field'] == 'Occupied Housing Units':\n",
        "            Currentyear += row['value']\n",
        "        if row['year'] == unique_years[i + 1] and row['title_field'] == 'Occupied Housing Units':\n",
        "            nextyear += row['value']\n",
        "    p[str(j)+'-'+str(unique_years[i + 1])] = abs(Currentyear - nextyear)\n",
        "#printing the values in a sorted order\n",
        "val = sorted(list(p.values()))\n",
        "for value in val:\n",
        "  for key in p:\n",
        "    if value == p[key]:\n",
        "      print(key,':', value)\n"
      ],
      "metadata": {
        "colab": {
          "base_uri": "https://localhost:8080/"
        },
        "id": "np56kpoKCwMF",
        "outputId": "fac57eb1-d16a-4435-d63f-70938cdd98db"
      },
      "execution_count": 64,
      "outputs": [
        {
          "output_type": "stream",
          "name": "stdout",
          "text": [
            "2010-2011 : 303\n",
            "2008-2009 : 795\n",
            "2011-2012 : 1404\n",
            "2012-2013 : 1565\n",
            "2013-2014 : 2622\n",
            "2009-2010 : 5091\n"
          ]
        }
      ]
    },
    {
      "cell_type": "code",
      "source": [
        "for j in sorted(list(set(dataframe1['year']))):\n",
        "  total_housing = 0\n",
        "  occupied_housing = 0\n",
        "  vacant_housing = 0\n",
        "  year = 0\n",
        "  for col, row in dataframe1.iterrows():\n",
        "    if row['year'] == j and row['title_field'] == 'Total Housing Units' :\n",
        "      year = row['year']\n",
        "      total_housing = row['value']\n",
        "    if row['year'] == j and  row['title_field'] == 'Occupied Housing Units' :\n",
        "      occupied_housing = row['value']\n",
        "    if row['year'] == j and  row['title_field'] == 'Vacant Housing Units' :\n",
        "      vacant_housing = row['value']\n",
        "  occupied_housing_percentage = int((occupied_housing / total_housing) * 100)\n",
        "  vacant_housing_percentage = int((vacant_housing / total_housing) * 100)\n",
        "  print(year,\" \",str(vacant_housing_percentage)+'%',\" \",str(occupied_housing_percentage)+'%')"
      ],
      "metadata": {
        "colab": {
          "base_uri": "https://localhost:8080/"
        },
        "id": "WfjZLjhVDVIE",
        "outputId": "b4faf42d-7b5d-4e62-a2e7-183b9ce99799"
      },
      "execution_count": 62,
      "outputs": [
        {
          "output_type": "stream",
          "name": "stdout",
          "text": [
            "2008   10%   89%\n",
            "2009   9%   90%\n",
            "2010   8%   91%\n",
            "2011   9%   90%\n",
            "2012   6%   93%\n",
            "2013   8%   91%\n",
            "2014   5%   94%\n"
          ]
        }
      ]
    },
    {
      "cell_type": "code",
      "source": [
        "occupied_max=0\n",
        "vacant_max=0\n",
        "max_occupiedyear=0\n",
        "max_vacantyear=0\n",
        "for j in sorted(list(set(dataframe1['year']))):\n",
        " for col,row in dataframe1.iterrows():\n",
        "    if row['year'] == j and  row['title_field'] == 'Occupied Housing Units' :\n",
        "      if row['value']>occupied_max:\n",
        "        occupied_max=row['value']\n",
        "        max_occupiedyear=row['year']\n",
        "    if row['year'] == j and  row['title_field'] == 'Vacant Housing Units' :\n",
        "      if row['value']>vacant_max:\n",
        "        vacant_max=row['value']\n",
        "        max_vacantyear=row['year']\n",
        "print('                       ', 'year',   'value')\n",
        "print('Occupied Housing Units ' , max_occupiedyear,   occupied_max)\n",
        "print('Vacant Housing Units   ' ,  max_vacantyear , vacant_max  )"
      ],
      "metadata": {
        "colab": {
          "base_uri": "https://localhost:8080/"
        },
        "id": "ItbETou9DsEI",
        "outputId": "bbaa4c51-5c75-4c4d-ba83-f7e82c7f1888"
      },
      "execution_count": 65,
      "outputs": [
        {
          "output_type": "stream",
          "name": "stdout",
          "text": [
            "                        year value\n",
            "Occupied Housing Units  2014 46295\n",
            "Vacant Housing Units    2008 4483\n"
          ]
        }
      ]
    },
    {
      "cell_type": "code",
      "source": [
        "total_housing = list()\n",
        "for col, row in dataframe1.iterrows():\n",
        "  if row['title_field'] == 'Total Housing Units':\n",
        "    total_housing.append(row['value'])\n",
        "total = len(total_housing)\n",
        "a = 0\n",
        "for i in total_housing:\n",
        "  a += (1/i)\n",
        "print(total/a)"
      ],
      "metadata": {
        "colab": {
          "base_uri": "https://localhost:8080/"
        },
        "id": "MRf-IAOMDv1A",
        "outputId": "43f7a0dd-3c30-4952-ea9b-4e4165f9806f"
      },
      "execution_count": 66,
      "outputs": [
        {
          "output_type": "stream",
          "name": "stdout",
          "text": [
            "44398.28543969185\n"
          ]
        }
      ]
    },
    {
      "cell_type": "markdown",
      "source": [
        "# Mandatory Question\n",
        "\n",
        "Provide your thoughts on the assignment. What did you find challenging, and what aspects did you enjoy? Your opinion on the provided time to complete the assignment. Share any suggestions for improvement. Your feedback will be valuable for enhancing the learning experience."
      ],
      "metadata": {
        "id": "q8BFCvWp32cf"
      }
    },
    {
      "cell_type": "code",
      "source": [
        "# Write your response below\n"
      ],
      "metadata": {
        "id": "_e557s2w4BpK"
      },
      "execution_count": null,
      "outputs": []
    },
    {
      "cell_type": "markdown",
      "source": [
        "The assignment provided above is good and I learned many new things as a beginner of python from these questions."
      ],
      "metadata": {
        "id": "fth8u8jyhx6H"
      }
    }
  ],
  "metadata": {
    "colab": {
      "provenance": [],
      "include_colab_link": true
    },
    "kernelspec": {
      "display_name": "Python 3 (ipykernel)",
      "language": "python",
      "name": "python3"
    },
    "language_info": {
      "codemirror_mode": {
        "name": "ipython",
        "version": 3
      },
      "file_extension": ".py",
      "mimetype": "text/x-python",
      "name": "python",
      "nbconvert_exporter": "python",
      "pygments_lexer": "ipython3",
      "version": "3.9.12"
    }
  },
  "nbformat": 4,
  "nbformat_minor": 0
}